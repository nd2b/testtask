{
 "cells": [
  {
   "cell_type": "code",
   "execution_count": null,
   "id": "a2321aea",
   "metadata": {},
   "outputs": [],
   "source": [
    "import os\n",
    "import glob\n",
    "from IPython.display import Image, display"
   ]
  },
  {
   "cell_type": "code",
   "execution_count": null,
   "id": "171b8b5e",
   "metadata": {
    "scrolled": true
   },
   "outputs": [],
   "source": [
    "run = f\"python performance_check.py\\\n",
    "                    --path=https://ai-process-sandy.s3.eu-west-1.amazonaws.com/purge/deviation.json\"\n",
    "!{run}"
   ]
  },
  {
   "cell_type": "code",
   "execution_count": null,
   "id": "65c6e11d",
   "metadata": {},
   "outputs": [],
   "source": [
    "plot_path = os.path.join(os.getcwd(), 'plots')"
   ]
  },
  {
   "cell_type": "code",
   "execution_count": null,
   "id": "760d3a6d",
   "metadata": {},
   "outputs": [],
   "source": [
    "for imageName in glob.glob(plot_path + '/*.png'):\n",
    "    display(Image(filename=imageName))\n",
    "    print(imageName)"
   ]
  },
  {
   "cell_type": "code",
   "execution_count": null,
   "id": "c99eb55c",
   "metadata": {},
   "outputs": [],
   "source": []
  }
 ],
 "metadata": {
  "kernelspec": {
   "display_name": "Python 3",
   "language": "python",
   "name": "python3"
  },
  "language_info": {
   "codemirror_mode": {
    "name": "ipython",
    "version": 3
   },
   "file_extension": ".py",
   "mimetype": "text/x-python",
   "name": "python",
   "nbconvert_exporter": "python",
   "pygments_lexer": "ipython3",
   "version": "3.8.8"
  }
 },
 "nbformat": 4,
 "nbformat_minor": 5
}
